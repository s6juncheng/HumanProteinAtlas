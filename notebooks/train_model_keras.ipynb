{
 "cells": [
  {
   "cell_type": "code",
   "execution_count": 1,
   "metadata": {},
   "outputs": [],
   "source": [
    "%load_ext autoreload\n",
    "\n",
    "%autoreload 2"
   ]
  },
  {
   "cell_type": "code",
   "execution_count": 2,
   "metadata": {},
   "outputs": [],
   "source": [
    "from hpa_src.config import get_data_dir, name_label_dict\n",
    "from hpa_src.data.datasets import readimg, HpaDataset, TestDataset, train_val_split\n",
    "import pandas as pd\n",
    "import numpy as np\n",
    "import matplotlib.pyplot as plt\n",
    "\n",
    "%matplotlib inline \n",
    "\n",
    "DATA = get_data_dir()"
   ]
  },
  {
   "cell_type": "code",
   "execution_count": 3,
   "metadata": {},
   "outputs": [],
   "source": [
    "from torch.utils.data import DataLoader, random_split\n",
    "from PIL import Image\n",
    "from torchvision import transforms\n",
    "from hpa_src.data.transforms import ToPIL, ToNumpy\n",
    "from hpa_src.data.functional import iterable_cycle\n",
    "import torch"
   ]
  },
  {
   "cell_type": "code",
   "execution_count": 4,
   "metadata": {},
   "outputs": [],
   "source": [
    "image_df = pd.read_csv(DATA + \"raw/png/train.csv\")"
   ]
  },
  {
   "cell_type": "code",
   "execution_count": 5,
   "metadata": {},
   "outputs": [],
   "source": [
    "input_size = 299\n",
    "train_transform = transforms.Compose([\n",
    "    ToPIL(),\n",
    "    #transforms.Resize(input_size),\n",
    "    transforms.RandomResizedCrop(input_size),\n",
    "    transforms.RandomHorizontalFlip(),\n",
    "    transforms.RandomRotation(30),\n",
    "    transforms.ToTensor(),\n",
    "    transforms.Normalize((0.1149, 0.0922, 0.0553),\n",
    "                         (0.1694, 0.1381, 0.1551)),\n",
    "    ToNumpy()\n",
    "])\n",
    "val_transform = transforms.Compose([\n",
    "    ToPIL(),\n",
    "    transforms.Resize(input_size),\n",
    "    transforms.ToTensor(),\n",
    "    transforms.Normalize((0.1149, 0.0922, 0.0553),\n",
    "                         (0.1694, 0.1381, 0.1551)),\n",
    "    ToNumpy()\n",
    "])"
   ]
  },
  {
   "cell_type": "code",
   "execution_count": 6,
   "metadata": {},
   "outputs": [],
   "source": [
    "train_sampler, val_sampler = train_val_split(image_df.shape[0])"
   ]
  },
  {
   "cell_type": "code",
   "execution_count": 7,
   "metadata": {},
   "outputs": [],
   "source": [
    "train_dataset = HpaDataset(DATA + 'raw/png/train.csv', transform=train_transform)\n",
    "val_dataset = HpaDataset(DATA + 'raw/png/train.csv', transform=val_transform)"
   ]
  },
  {
   "cell_type": "code",
   "execution_count": 8,
   "metadata": {},
   "outputs": [],
   "source": [
    "train_loader = torch.utils.data.DataLoader(\n",
    "    train_dataset, batch_size=16, sampler=train_sampler,\n",
    "    num_workers=16\n",
    ")\n",
    "\n",
    "val_loader = torch.utils.data.DataLoader(\n",
    "    val_dataset, batch_size=16, sampler=val_sampler,\n",
    "    num_workers=16\n",
    ")\n",
    "\n",
    "dataloaders = {'train': iterable_cycle(train_loader), 'val': iterable_cycle(val_loader)}"
   ]
  },
  {
   "cell_type": "markdown",
   "metadata": {},
   "source": [
    "## Build model"
   ]
  },
  {
   "cell_type": "code",
   "execution_count": 9,
   "metadata": {},
   "outputs": [
    {
     "name": "stderr",
     "output_type": "stream",
     "text": [
      "Using TensorFlow backend.\n"
     ]
    }
   ],
   "source": [
    "from keras.applications.inception_v3 import InceptionV3\n",
    "from keras.layers import Activation, Dropout, Flatten, Dense, BatchNormalization, Input, Conv2D\n",
    "from keras.models import load_model, Model\n",
    "from keras.callbacks import ModelCheckpoint, EarlyStopping, ReduceLROnPlateau\n",
    "from sklearn.metrics import f1_score\n",
    "from hpa_src.models.metrics import f1\n",
    "from keras.optimizers import Adam "
   ]
  },
  {
   "cell_type": "code",
   "execution_count": 10,
   "metadata": {},
   "outputs": [],
   "source": [
    "epochs = 10; batch_size = 16\n",
    "checkpoint = ModelCheckpoint(DATA+'../models/InceptionV3.h5', monitor='val_loss', verbose=1, \n",
    "                             save_best_only=True, mode='min')\n",
    "reduceLROnPlat = ReduceLROnPlateau(monitor='val_loss', factor=0.1, patience=3, \n",
    "                                   verbose=1, mode='auto', min_delta=0.0001)\n",
    "early = EarlyStopping(monitor=\"val_loss\", \n",
    "                      mode=\"min\", \n",
    "                      patience=5)\n",
    "callbacks_list = [checkpoint, early, reduceLROnPlat]"
   ]
  },
  {
   "cell_type": "code",
   "execution_count": null,
   "metadata": {},
   "outputs": [],
   "source": [
    "def create_model(input_shape, n_out):\n",
    "    input_tensor = Input(shape=input_shape)\n",
    "    base_model = InceptionV3(include_top=False,\n",
    "                   weights='imagenet',\n",
    "                   input_shape=input_shape)\n",
    "    bn = BatchNormalization()(input_tensor)\n",
    "    x = base_model(bn)\n",
    "    x = Conv2D(32, kernel_size=(1,1), activation='relu')(x)\n",
    "    x = Flatten()(x)\n",
    "    x = Dropout(0.5)(x)\n",
    "    x = Dense(1024, activation='relu')(x)\n",
    "    x = Dropout(0.2)(x)\n",
    "    output = Dense(n_out, activation='sigmoid')(x)\n",
    "    model = Model(input_tensor, output)\n",
    "    \n",
    "    return model"
   ]
  },
  {
   "cell_type": "code",
   "execution_count": 12,
   "metadata": {},
   "outputs": [],
   "source": [
    "model = create_model(\n",
    "    input_shape=(input_size,input_size,3), \n",
    "    n_out=28)"
   ]
  },
  {
   "cell_type": "code",
   "execution_count": 13,
   "metadata": {},
   "outputs": [],
   "source": [
    "for layer in model.layers:\n",
    "    layer.trainable = False\n",
    "model.layers[-1].trainable = True\n",
    "model.layers[-2].trainable = True\n",
    "model.layers[-3].trainable = True\n",
    "model.layers[-4].trainable = True\n",
    "model.layers[-5].trainable = True\n",
    "model.layers[-6].trainable = True"
   ]
  },
  {
   "cell_type": "code",
   "execution_count": 14,
   "metadata": {},
   "outputs": [],
   "source": [
    "model.compile(\n",
    "    loss='binary_crossentropy', \n",
    "    optimizer=Adam(1e-03),\n",
    "    metrics=[f1])"
   ]
  },
  {
   "cell_type": "code",
   "execution_count": null,
   "metadata": {},
   "outputs": [],
   "source": [
    "model.fit_generator(\n",
    "    dataloaders['train'],\n",
    "    steps_per_epoch=np.ceil(float(len(train_sampler.indices)) / float(batch_size)),\n",
    "    validation_data=dataloaders['val'],\n",
    "    validation_steps=np.ceil(float(len(val_sampler.indices)) / float(batch_size)),\n",
    "    epochs=3, \n",
    "    verbose=1,\n",
    "    callbacks=[early])"
   ]
  },
  {
   "cell_type": "code",
   "execution_count": null,
   "metadata": {},
   "outputs": [],
   "source": [
    "# resume training\n",
    "model = load_model('../models/InceptionV3.h5', custom_objects={'f1': f1})"
   ]
  },
  {
   "cell_type": "code",
   "execution_count": null,
   "metadata": {},
   "outputs": [
    {
     "name": "stdout",
     "output_type": "stream",
     "text": [
      "Epoch 1/100\n",
      "1554/1554 [==============================] - 11330s 7s/step - loss: 0.1096 - f1: 0.1768 - val_loss: 0.1006 - val_f1: 0.2008\n",
      "\n",
      "Epoch 00001: val_loss improved from inf to 0.10061, saving model to /data/nasif12/home_if12/chengju/project/HumanProteinAtlas/hpa_src/../data/../models/InceptionV3.h5\n",
      "Epoch 2/100\n",
      "1554/1554 [==============================] - 11836s 8s/step - loss: 0.1082 - f1: 0.1822 - val_loss: 0.1081 - val_f1: 0.1959\n",
      "\n",
      "Epoch 00002: val_loss did not improve from 0.10061\n",
      "Epoch 3/100\n",
      "1554/1554 [==============================] - 11686s 8s/step - loss: 0.1068 - f1: 0.1852 - val_loss: 0.1051 - val_f1: 0.2004\n",
      "\n",
      "Epoch 00003: val_loss did not improve from 0.10061\n",
      "Epoch 4/100\n",
      "1554/1554 [==============================] - 11502s 7s/step - loss: 0.1052 - f1: 0.1905 - val_loss: 0.1044 - val_f1: 0.2013\n",
      "\n",
      "Epoch 00004: val_loss did not improve from 0.10061\n",
      "\n",
      "Epoch 00004: ReduceLROnPlateau reducing learning rate to 9.999999747378752e-06.\n",
      "Epoch 5/100\n",
      "  71/1554 [>.............................] - ETA: 2:53:25 - loss: 0.1049 - f1: 0.1922"
     ]
    }
   ],
   "source": [
    "for layer in model.layers:\n",
    "    layer.trainable = True\n",
    "model.compile(loss='binary_crossentropy',\n",
    "            optimizer=Adam(lr=1e-4),\n",
    "            metrics=[f1])\n",
    "model.fit_generator(\n",
    "    dataloaders['train'],\n",
    "    steps_per_epoch=np.ceil(float(len(train_sampler.indices)) / float(batch_size)),\n",
    "    validation_data=dataloaders['val'],\n",
    "    validation_steps=np.ceil(float(len(val_sampler.indices)) / float(batch_size)),\n",
    "    epochs=100, \n",
    "    verbose=1,\n",
    "    callbacks=callbacks_list)"
   ]
  },
  {
   "cell_type": "code",
   "execution_count": 21,
   "metadata": {},
   "outputs": [
    {
     "data": {
      "image/png": "[encoded data removed]",
      "text/plain": [
       "<Figure size 936x360 with 2 Axes>"
      ]
     },
     "metadata": {
      "needs_background": "light"
     },
     "output_type": "display_data"
    }
   ],
   "source": [
    "# plt.subplot(121)\n",
    "fig = plt.figure(figsize=(13,5))\n",
    "ax1 = fig.add_subplot(121)\n",
    "ax1.plot(model.history.epoch, model.history.history['loss'], label='train_loss')\n",
    "ax1.plot(model.history.epoch, model.history.history['val_loss'], label='val_loss')\n",
    "ax1.legend()\n",
    "ax2 = fig.add_subplot(122)\n",
    "ax2.plot(model.history.epoch, model.history.history['f1'], label='train_f1')\n",
    "ax2.plot(model.history.epoch, model.history.history['val_f1'], label='val_f1')\n",
    "ax2.legend()\n",
    "plt.show()"
   ]
  },
  {
   "cell_type": "code",
   "execution_count": null,
   "metadata": {},
   "outputs": [],
   "source": []
  }
 ],
 "metadata": {
  "kernelspec": {
   "display_name": "Python [conda env:hpaic]",
   "language": "python",
   "name": "conda-env-hpaic-py"
  },
  "language_info": {
   "codemirror_mode": {
    "name": "ipython",
    "version": 3
   },
   "file_extension": ".py",
   "mimetype": "text/x-python",
   "name": "python",
   "nbconvert_exporter": "python",
   "pygments_lexer": "ipython3",
   "version": "3.6.6"
  }
 },
 "nbformat": 4,
 "nbformat_minor": 2
}
